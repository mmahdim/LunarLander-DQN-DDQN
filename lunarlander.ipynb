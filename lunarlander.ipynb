{
 "cells": [
  {
   "cell_type": "code",
   "execution_count": 1,
   "metadata": {
    "colab": {
     "base_uri": "https://localhost:8080/"
    },
    "id": "2S2G8ed8q0Dh",
    "outputId": "51f37ff6-53e8-478b-86f0-2a3becf451b4",
    "scrolled": true
   },
   "outputs": [
    {
     "name": "stdout",
     "output_type": "stream",
     "text": [
      "Requirement already satisfied: gym in /usr/local/lib/python3.7/dist-packages (0.17.3)\n",
      "Collecting gym\n",
      "  Downloading gym-0.23.1.tar.gz (626 kB)\n",
      "\u001b[K     |████████████████████████████████| 626 kB 5.1 MB/s \n",
      "\u001b[?25h  Installing build dependencies ... \u001b[?25l\u001b[?25hdone\n",
      "  Getting requirements to build wheel ... \u001b[?25l\u001b[?25hdone\n",
      "    Preparing wheel metadata ... \u001b[?25l\u001b[?25hdone\n",
      "Collecting gym-notices>=0.0.4\n",
      "  Downloading gym_notices-0.0.6-py3-none-any.whl (2.7 kB)\n",
      "Requirement already satisfied: cloudpickle>=1.2.0 in /usr/local/lib/python3.7/dist-packages (from gym) (1.3.0)\n",
      "Requirement already satisfied: importlib-metadata>=4.10.0 in /usr/local/lib/python3.7/dist-packages (from gym) (4.11.3)\n",
      "Requirement already satisfied: numpy>=1.18.0 in /usr/local/lib/python3.7/dist-packages (from gym) (1.21.6)\n",
      "Requirement already satisfied: typing-extensions>=3.6.4 in /usr/local/lib/python3.7/dist-packages (from importlib-metadata>=4.10.0->gym) (4.2.0)\n",
      "Requirement already satisfied: zipp>=0.5 in /usr/local/lib/python3.7/dist-packages (from importlib-metadata>=4.10.0->gym) (3.8.0)\n",
      "Building wheels for collected packages: gym\n",
      "  Building wheel for gym (PEP 517) ... \u001b[?25l\u001b[?25hdone\n",
      "  Created wheel for gym: filename=gym-0.23.1-py3-none-any.whl size=701376 sha256=e2194f66eab2c2d219a0cddc794e03e3a35f58bb5515036536a5cce98582e671\n",
      "  Stored in directory: /root/.cache/pip/wheels/e3/33/04/6723848e46f0f1ebe794bb329b7c761c3329a0d7ffade99da7\n",
      "Successfully built gym\n",
      "Installing collected packages: gym-notices, gym\n",
      "  Attempting uninstall: gym\n",
      "    Found existing installation: gym 0.17.3\n",
      "    Uninstalling gym-0.17.3:\n",
      "      Successfully uninstalled gym-0.17.3\n",
      "Successfully installed gym-0.23.1 gym-notices-0.0.6\n",
      "Requirement already satisfied: pyglet in /usr/local/lib/python3.7/dist-packages (1.5.0)\n",
      "Requirement already satisfied: future in /usr/local/lib/python3.7/dist-packages (from pyglet) (0.16.0)\n",
      "Collecting Box2D\n",
      "  Downloading Box2D-2.3.10-cp37-cp37m-manylinux1_x86_64.whl (1.3 MB)\n",
      "\u001b[K     |████████████████████████████████| 1.3 MB 5.3 MB/s \n",
      "\u001b[?25hInstalling collected packages: Box2D\n",
      "Successfully installed Box2D-2.3.10\n",
      "Collecting box2d-py\n",
      "  Downloading box2d_py-2.3.8-cp37-cp37m-manylinux1_x86_64.whl (448 kB)\n",
      "\u001b[K     |████████████████████████████████| 448 kB 5.2 MB/s \n",
      "\u001b[?25hInstalling collected packages: box2d-py\n",
      "Successfully installed box2d-py-2.3.8\n",
      "Requirement already satisfied: gym[Box_2D] in /usr/local/lib/python3.7/dist-packages (0.23.1)\n",
      "\u001b[33mWARNING: gym 0.23.1 does not provide the extra 'box_2d'\u001b[0m\n",
      "Requirement already satisfied: gym-notices>=0.0.4 in /usr/local/lib/python3.7/dist-packages (from gym[Box_2D]) (0.0.6)\n",
      "Requirement already satisfied: importlib-metadata>=4.10.0 in /usr/local/lib/python3.7/dist-packages (from gym[Box_2D]) (4.11.3)\n",
      "Requirement already satisfied: cloudpickle>=1.2.0 in /usr/local/lib/python3.7/dist-packages (from gym[Box_2D]) (1.3.0)\n",
      "Requirement already satisfied: numpy>=1.18.0 in /usr/local/lib/python3.7/dist-packages (from gym[Box_2D]) (1.21.6)\n",
      "Requirement already satisfied: zipp>=0.5 in /usr/local/lib/python3.7/dist-packages (from importlib-metadata>=4.10.0->gym[Box_2D]) (3.8.0)\n",
      "Requirement already satisfied: typing-extensions>=3.6.4 in /usr/local/lib/python3.7/dist-packages (from importlib-metadata>=4.10.0->gym[Box_2D]) (4.2.0)\n",
      "Requirement already satisfied: gym[box2d] in /usr/local/lib/python3.7/dist-packages (0.23.1)\n",
      "Requirement already satisfied: gym-notices>=0.0.4 in /usr/local/lib/python3.7/dist-packages (from gym[box2d]) (0.0.6)\n",
      "Requirement already satisfied: numpy>=1.18.0 in /usr/local/lib/python3.7/dist-packages (from gym[box2d]) (1.21.6)\n",
      "Requirement already satisfied: cloudpickle>=1.2.0 in /usr/local/lib/python3.7/dist-packages (from gym[box2d]) (1.3.0)\n",
      "Requirement already satisfied: importlib-metadata>=4.10.0 in /usr/local/lib/python3.7/dist-packages (from gym[box2d]) (4.11.3)\n",
      "Collecting pygame==2.1.0\n",
      "  Downloading pygame-2.1.0-cp37-cp37m-manylinux_2_17_x86_64.manylinux2014_x86_64.whl (18.3 MB)\n",
      "\u001b[K     |████████████████████████████████| 18.3 MB 89 kB/s \n",
      "\u001b[?25hCollecting box2d-py==2.3.5\n",
      "  Downloading box2d_py-2.3.5-cp37-cp37m-manylinux1_x86_64.whl (2.1 MB)\n",
      "\u001b[K     |████████████████████████████████| 2.1 MB 32.4 MB/s \n",
      "\u001b[?25hRequirement already satisfied: zipp>=0.5 in /usr/local/lib/python3.7/dist-packages (from importlib-metadata>=4.10.0->gym[box2d]) (3.8.0)\n",
      "Requirement already satisfied: typing-extensions>=3.6.4 in /usr/local/lib/python3.7/dist-packages (from importlib-metadata>=4.10.0->gym[box2d]) (4.2.0)\n",
      "Installing collected packages: pygame, box2d-py\n",
      "  Attempting uninstall: box2d-py\n",
      "    Found existing installation: box2d-py 2.3.8\n",
      "    Uninstalling box2d-py-2.3.8:\n",
      "      Successfully uninstalled box2d-py-2.3.8\n",
      "Successfully installed box2d-py-2.3.5 pygame-2.1.0\n"
     ]
    }
   ],
   "source": [
    "# install dependencies\n",
    "!pip install gym --upgrade\n",
    "!pip install pyglet\n",
    "!pip install Box2D\n",
    "!pip install box2d-py\n",
    "!pip install gym[Box_2D]\n",
    "!pip install gym[box2d]"
   ]
  },
  {
   "cell_type": "code",
   "execution_count": 1,
   "metadata": {
    "colab": {
     "base_uri": "https://localhost:8080/"
    },
    "id": "THmSY0V1q3ZH",
    "outputId": "402f4fee-2339-44f2-f8e4-341d587adda6"
   },
   "outputs": [
    {
     "data": {
      "text/plain": [
       "device(type='cpu')"
      ]
     },
     "execution_count": 1,
     "metadata": {},
     "output_type": "execute_result"
    }
   ],
   "source": [
    "import torch\n",
    "\n",
    "# if gpu is to be used\n",
    "device = torch.device(\"cuda\" if torch.cuda.is_available() else \"cpu\")\n",
    "device # cpu on my laptop, CUDA on google colab."
   ]
  },
  {
   "cell_type": "code",
   "execution_count": 2,
   "metadata": {
    "id": "6cUGK5wfq6jn"
   },
   "outputs": [],
   "source": [
    "# enviroment\n",
    "import gym\n",
    "\n",
    "env = gym.make('LunarLander-v2')\n",
    "state_size =  env.observation_space.shape[0]\n",
    "action_size =  env.action_space.n"
   ]
  },
  {
   "cell_type": "code",
   "execution_count": 3,
   "metadata": {
    "id": "qe6oEDLmq75I"
   },
   "outputs": [],
   "source": [
    "# experience replay\n",
    "import random\n",
    "from collections import namedtuple, deque\n",
    "\n",
    "Transition = namedtuple('Transition',\n",
    "                        ('state', 'action', 'next_state', 'reward', 'done'))\n",
    "\n",
    "\n",
    "class ExperienceReplay():\n",
    "    def __init__(self, capacity) -> None:\n",
    "        self.memory = deque([], maxlen=capacity)\n",
    "        \n",
    "    def store_trans(self, s, a, sp, r, done):\n",
    "        # TODO: store new transition in memory\n",
    "        newtransition = Transition(s, a, sp, r, done)\n",
    "        self.memory.append(newtransition)\n",
    "        pass\n",
    "\n",
    "    def sample(self, batch_size):\n",
    "        # TODO: take RANDOM sample from memory\n",
    "        return random.sample(self.memory, batch_size)\n",
    "        pass\n",
    "\n",
    "    def __len__(self):\n",
    "        return len(self.memory)"
   ]
  },
  {
   "cell_type": "code",
   "execution_count": 4,
   "metadata": {
    "id": "PCC_8fN3q88t"
   },
   "outputs": [],
   "source": [
    "# DQN\n",
    "import torch.nn as nn\n",
    "import torch.nn.functional as F\n",
    "\n",
    "class DeepQNetwork(nn.Module):\n",
    "    def __init__(self, state_size, action_size) -> None:\n",
    "        super(DeepQNetwork, self).__init__()\n",
    "        # TODO: define the architecture\n",
    "        # NOTE: input=observation/state, output=action\n",
    "        self.layer1 = nn.Linear(state_size, 256)\n",
    "        self.layer2 = nn.Linear(256, 512)\n",
    "        self.layer3 = nn.Linear(512, 128)\n",
    "        self.layer4 = nn.Linear(128, action_size)\n",
    "        pass\n",
    "\n",
    "    def forward(self, x):\n",
    "        # TODO: forward propagation\n",
    "        # NOTE: use ReLu for activation function in all layers \n",
    "        x = x.to(device)\n",
    "        x = F.relu(self.layer1(x))\n",
    "        x = F.relu(self.layer2(x))\n",
    "        x = F.relu(self.layer3(x))\n",
    "        # NOTE: last layer has no activation function (predict action)\n",
    "        return self.layer4(x)"
   ]
  },
  {
   "cell_type": "code",
   "execution_count": 6,
   "metadata": {
    "id": "3EkV3D0Vq-JV"
   },
   "outputs": [],
   "source": [
    "# DQN agent\n",
    "import numpy as np\n",
    "import torch\n",
    "import torch.nn as nn\n",
    "import torch.nn.functional as F\n",
    "import torch.optim as optim\n",
    "\n",
    "class DQNAgent():\n",
    "    # NOTE: DON'T change initial values\n",
    "    def __init__(self, state_size, action_size, batch_size,\n",
    "                 gamma=0.99, buffer_size=25000, alpha=1e-4):\n",
    "        # network parameter\n",
    "        self.state_size = state_size\n",
    "        self.action_size = action_size\n",
    "\n",
    "        # hyperparameters\n",
    "        self.batch_size = batch_size\n",
    "        self.gamma = gamma\n",
    "\n",
    "        # experience replay\n",
    "        self.experience_replay = ExperienceReplay(buffer_size)\n",
    "\n",
    "        # network\n",
    "        self.value_net = DeepQNetwork(state_size, action_size).to(device)\n",
    "\n",
    "        # optimizer\n",
    "        # TODO: create adam for optimizing network's parameter (learning rate=alpha)\n",
    "        self.optimizer = optim.Adam(self.value_net.parameters(), lr=alpha)\n",
    "\n",
    "\n",
    "    def take_action(self, state, eps=0.0):\n",
    "        # TODO: take action using e-greedy policy\n",
    "        # NOTE: takes action using the greedy policy with a probability of 1−𝜖 and a random action with a probability of 𝜖\n",
    "        # NOTE: \n",
    "        ### Convert \"state\" into torch tesnor\n",
    "        state = torch.from_numpy(state).float().to(device)\n",
    "        ### Convert into 1-dim tensor\n",
    "        state = state.unsqueeze(0).to(device)\n",
    "        ### Switch to evaluation mode to get possible action values\n",
    "        self.value_net.eval()\n",
    "        with torch.no_grad():\n",
    "            action_values = self.value_net(state)\n",
    "        ### Switch back to training mode\n",
    "        self.value_net.train()\n",
    "\n",
    "        if random.random() > eps:   ###Exploit\n",
    "            return action_values.argmax(dim=1).item()\n",
    "        else:                       ###Explore\n",
    "            return random.choice(np.arange(self.action_size))\n",
    "        \n",
    "        pass\n",
    "\n",
    "    def update_params(self):\n",
    "        if len(self.experience_replay) < self.batch_size:\n",
    "            return\n",
    "        # transition batch\n",
    "        batch = Transition(*zip(*self.experience_replay.sample(self.batch_size)))\n",
    "\n",
    "        state_batch = torch.from_numpy(np.vstack(batch.state)).float().to(device)\n",
    "        action_batch = torch.tensor(np.vstack(batch.action)).long().to(device)\n",
    "        next_state_batch = torch.from_numpy(np.vstack(batch.next_state)).float().to(device)\n",
    "        reward_batch = torch.tensor(np.vstack(batch.reward)).float().to(device)\n",
    "        done_batch = torch.tensor(np.vstack(batch.done)).to(device)\n",
    "\n",
    "        # calculate loss w.r.t DQN algorithm\n",
    "\n",
    "        # STEP1\n",
    "        # TODO: compute the expected Q values [y]\n",
    "\n",
    "        ### calculate expected Q for next state\n",
    "        next_Q = self.value_net(next_state_batch).detach()\n",
    "        max_next_Q = torch.max(next_Q, 1)[0].unsqueeze(1) # expected Q\n",
    "        \n",
    "        ### use the bellman equation to compute Q\n",
    "        expected_Q = reward_batch + self.gamma * (~done_batch) * max_next_Q\n",
    "        \n",
    "        # STEP2\n",
    "        # TODO: compute Q values [Q(s_t, a)]\n",
    "        \n",
    "        \n",
    "        ### use state batch for computing current Q values for this batch;\n",
    "        ### to do so, we have to input the state_batch into the DQN, and use\n",
    "        ### torch.gather to gather output for the actions we have taken.\n",
    "        current_Q = self.value_net(state_batch).gather(1,action_batch)\n",
    "        \n",
    "        # STEP3\n",
    "        # TODO: compute mse loss\n",
    "        loss = F.mse_loss(current_Q, expected_Q)\n",
    "        \n",
    "        # TODO: optimize the model\n",
    "        # NOTE: DON'T forget to set the gradients to zeros\n",
    "        \n",
    "        self.optimizer.zero_grad()     ### set gradients to zero\n",
    "        loss.backward()                ### backpropagate the losses (calculate gradients)\n",
    "        self.optimizer.step()          ### update model parameters\n",
    "\n",
    "    def update_experience(self, s, a, sp, r, done):\n",
    "        ### Method for adding transision into experience buffer\n",
    "        self.experience_replay.store_trans(s, a, sp, r, done)\n",
    "        \n",
    "    def save(self, fname):\n",
    "        # TODO: save checkpoint\n",
    "        torch.save(self.value_net, fname)\n",
    "        pass\n",
    "\n",
    "    def load(self, fname, device):\n",
    "        # TODO: load checkpoint\n",
    "        #لپتاپ بنده فقط با سی پی یو می تواند کار کند.\n",
    "        #برای لود کردن شبکه روی لپتاپ باید با سی پی یو لود کنم.\n",
    "        self.value_net = torch.load(fname,map_location=torch.device('cpu')).to(device) \n",
    "        pass"
   ]
  },
  {
   "cell_type": "code",
   "execution_count": 18,
   "metadata": {
    "id": "Qdkc4s6Mq_IR"
   },
   "outputs": [],
   "source": [
    "# NOTE: DON'T change values\n",
    "n_episodes = 250\n",
    "eps = 1.0\n",
    "eps_decay_rate = 0.97\n",
    "eps_end = 0.01"
   ]
  },
  {
   "cell_type": "markdown",
   "metadata": {
    "id": "gM37O_2xyIlR"
   },
   "source": [
    "# Train Using DQN"
   ]
  },
  {
   "cell_type": "code",
   "execution_count": 8,
   "metadata": {
    "colab": {
     "base_uri": "https://localhost:8080/"
    },
    "id": "oiHPxtAYrAV2",
    "outputId": "fa5f5156-6ecf-44ed-f994-d9688f00cbbe"
   },
   "outputs": [
    {
     "name": "stdout",
     "output_type": "stream",
     "text": [
      "Episode 25\tAverage Reward: -130.76\tEpsilon: 0.47\n",
      "Episode 50\tAverage Reward: -57.74\tEpsilon: 0.22\n",
      "Episode 75\tAverage Reward: 32.47\tEpsilon: 0.10\n",
      "Episode 100\tAverage Reward: 168.32\tEpsilon: 0.05\n",
      "Episode 125\tAverage Reward: 230.07\tEpsilon: 0.02\n",
      "Episode 150\tAverage Reward: 197.83\tEpsilon: 0.01\n",
      "Episode 175\tAverage Reward: 223.67\tEpsilon: 0.01\n",
      "Episode 200\tAverage Reward: 217.95\tEpsilon: 0.01\n",
      "Episode 225\tAverage Reward: 237.23\tEpsilon: 0.01\n",
      "Episode 250\tAverage Reward: 257.48\tEpsilon: 0.01\n"
     ]
    }
   ],
   "source": [
    "# training phase\n",
    "\n",
    "# TODO: create agent\n",
    "batch_size = 64              # set batch size\n",
    "agent = DQNAgent(state_size, action_size, batch_size)\n",
    "\n",
    "crs = np.zeros(n_episodes)    # cummulative rewards\n",
    "crs_recent = deque(maxlen=25) # recent cummulative rewards\n",
    "# training loop\n",
    "for i_episode in range(1, n_episodes+1):\n",
    "    # TODO: initialize the environment and state\n",
    "    done = 0\n",
    "    state = env.reset()\n",
    "    cr = 0 # episode cummulative rewards\n",
    "    while not done:\n",
    "        # TODO: select and perform an action\n",
    "        action = agent.take_action(state, eps)           ### select the action, input current state and current epsilon value\n",
    "        next_state, reward, done, inf = env.step(action) ### perform the action\n",
    "        # TODO: store transition in experience replay\n",
    "        agent.update_experience(state, action, next_state, reward, done)\n",
    "        # TODO: update agent\n",
    "        agent.update_params()\n",
    "        # TODO: update current state and episode cummulative rewards\n",
    "        state = next_state\n",
    "        cr += reward\n",
    "    crs[i_episode-1] = cr\n",
    "    \n",
    "    # TODO: decay epsilon\n",
    "    eps = max(eps_end, eps_decay_rate*eps)\n",
    "    # TODO: update current cummulative rewards and recent cummulative rewards\n",
    "    np.append(crs, cr)\n",
    "    crs_recent.append(cr)\n",
    "    # TODO: save agent every 50 episodes\n",
    "    if (i_episode % 50 == 0):\n",
    "        agent.save('dqn_episode'+str(i_episode)+'.pt')\n",
    "    # print logs\n",
    "    print('\\rEpisode {}\\tAverage Reward: {:.2f}\\tEpsilon: {:.2f}'.format(i_episode, np.mean(crs_recent), eps), end=\"\")\n",
    "    if i_episode % 25 == 0:\n",
    "        print('\\rEpisode {}\\tAverage Reward: {:.2f}\\tEpsilon: {:.2f}'.format(i_episode, np.mean(crs_recent), eps))"
   ]
  },
  {
   "cell_type": "code",
   "execution_count": null,
   "metadata": {
    "colab": {
     "base_uri": "https://localhost:8080/",
     "height": 295
    },
    "id": "4q_FnjwnHUzW",
    "outputId": "2d584f5e-1636-4680-fbb8-26857272cfcf"
   },
   "outputs": [
    {
     "data": {
      "image/png": "[encoded data removed]",
      "text/plain": [
       "<Figure size 432x288 with 1 Axes>"
      ]
     },
     "metadata": {
      "needs_background": "light"
     },
     "output_type": "display_data"
    }
   ],
   "source": [
    "import matplotlib.pyplot as plt\n",
    "plt.plot(crs)\n",
    "plt.title('Reward per Episode for batchsize = {:d}'.format(batch_size))\n",
    "plt.xlabel('Episode #')\n",
    "plt.ylabel('Reward')\n",
    "plt.show()"
   ]
  },
  {
   "cell_type": "markdown",
   "metadata": {
    "id": "ZZIyGDKcte4-"
   },
   "source": [
    "# Show trained network in episodes 50,100,150,200,250"
   ]
  },
  {
   "cell_type": "code",
   "execution_count": null,
   "metadata": {
    "id": "xGDcdZrRyIla",
    "scrolled": true
   },
   "outputs": [],
   "source": [
    "batch_size = 64              # set batch size\n",
    "agent = DQNAgent(state_size, action_size, batch_size)\n",
    "eps = 250\n",
    "done = False\n",
    "reward = 0\n",
    "state = env.reset()\n",
    "agent.load('dqn_episode'+str(eps)+'.pt', device)\n",
    "while not done:\n",
    "    env.render()\n",
    "    action = agent.take_action(state, eps)\n",
    "    state, reward, done, _ = env.step(action)\n",
    "env.close()"
   ]
  },
  {
   "cell_type": "markdown",
   "metadata": {
    "id": "qzTb4vF2yIlb"
   },
   "source": [
    "# Record trained network in episodes 50,100,150,200,250"
   ]
  },
  {
   "cell_type": "code",
   "execution_count": null,
   "metadata": {
    "id": "S9WOEgJzyIlc",
    "scrolled": true
   },
   "outputs": [],
   "source": [
    "from gym.wrappers.monitoring import video_recorder\n",
    "batch_size = 64              # set batch size\n",
    "agent = DQNAgent(state_size, action_size, batch_size)\n",
    "for eps in np.linspace(50,250,5, dtype=int):\n",
    "    vid = video_recorder.VideoRecorder(env, path=\"videos/dqn_eps_{}.mp4\".format(eps))\n",
    "    agent.load('dqn_episode'+str(eps)+'.pt', device)\n",
    "    state = env.reset()\n",
    "    done = False\n",
    "    while not done:\n",
    "        frame = env.render(mode='rgb_array')\n",
    "        vid.capture_frame()\n",
    "        action = agent.take_action(state)\n",
    "        state, reward, done, _ = env.step(action)\n",
    "    env.close()"
   ]
  },
  {
   "cell_type": "code",
   "execution_count": 5,
   "metadata": {
    "id": "D4mWEX0S5vmP"
   },
   "outputs": [],
   "source": [
    "import numpy as np\n",
    "import torch\n",
    "import torch.nn as nn\n",
    "import torch.nn.functional as F\n",
    "import torch.optim as optim\n",
    "\n",
    "class DDQNAgent():\n",
    "    # NOTE: DON'T change initial values\n",
    "    def __init__(self, state_size, action_size, batch_size,\n",
    "                 gamma=0.99, buffer_size=25000, alpha=1e-4):\n",
    "        # network parameter\n",
    "        self.state_size = state_size\n",
    "        self.action_size = action_size\n",
    "\n",
    "        # hyperparameters\n",
    "        self.batch_size = batch_size\n",
    "        self.gamma = gamma\n",
    "\n",
    "        # experience replay\n",
    "        self.replay_buffer = ExperienceReplay(buffer_size)\n",
    "\n",
    "        # networks\n",
    "        self.value_net = DeepQNetwork(state_size, action_size).to(device)\n",
    "        self.target_value_net = DeepQNetwork(state_size, action_size).to(device)\n",
    "        self.target_value_net.eval()\n",
    "        self.update_target_network()\n",
    "        self.timer = 0  ## timer for updating the target network\n",
    "        # optimizer\n",
    "        # TODO: create adam for optimizing network's parameter (learning rate=alpha)\n",
    "        # NOTE: target network parameters DOSEN'T update with optimizer\n",
    "        self.optimizer = optim.Adam(self.value_net.parameters(), lr=alpha)\n",
    "\n",
    "\n",
    "    def take_action(self, state, eps=0.0):\n",
    "        # TODO: take action using e-greedy policy\n",
    "        # NOTE: takes action using the greedy policy with a probability of 1−𝜖 and a random action with a probability of 𝜖\n",
    "        # NOTE:\n",
    "        state = torch.from_numpy(state).float().unsqueeze(0).to(device)\n",
    "        self.value_net.eval() # set into evaluation mode\n",
    "        with torch.no_grad():\n",
    "            action_values = self.value_net(state)\n",
    "        self.value_net.train() # set back to training mode\n",
    "\n",
    "        # Epsilon-greedy action selection\n",
    "        if random.random() > eps:\n",
    "            return action_values.argmax(dim=1).item()\n",
    "        else:\n",
    "            return random.choice(np.arange(self.action_size))\n",
    "\n",
    "        pass\n",
    "\n",
    "    def update_params(self):\n",
    "        if len(self.replay_buffer) < self.batch_size:\n",
    "            return\n",
    "        # transition batch\n",
    "        batch = Transition(*zip(*self.replay_buffer.sample(self.batch_size)))\n",
    "\n",
    "        state_batch = torch.from_numpy(np.vstack(batch.state)).float().to(device)\n",
    "        action_batch = torch.tensor(np.vstack(batch.action)).long().to(device)\n",
    "        next_state_batch = torch.from_numpy(np.vstack(batch.next_state)).float().to(device)\n",
    "        reward_batch = torch.tensor(np.vstack(batch.reward)).float().to(device)\n",
    "        done_batch = torch.tensor(np.vstack(batch.done)).to(device)\n",
    "\n",
    "        # calculate loss w.r.t DQN algorithm\n",
    "\n",
    "        # STEP1\n",
    "        # TODO: compute the expected Q values [y]\n",
    "        max_next_target_Q = self.target_value_net(next_state_batch).detach().max(1)[0].unsqueeze(1)\n",
    "        ### bellman equation:\n",
    "        expected_Q = reward_batch + self.gamma * max_next_target_Q * (~done_batch)\n",
    "\n",
    "        # STEP2\n",
    "        # TODO: compute Q values [Q(s_t, a)]\n",
    "        ### calculate Q value for current state\n",
    "        current_Q = self.value_net(state_batch).gather(1, action_batch)\n",
    "        \n",
    "        # STEP3\n",
    "        # TODO: compute mse loss\n",
    "        loss = F.mse_loss(current_Q, expected_Q)\n",
    "        # TODO: optimize the model\n",
    "        # NOTE: DON'T forget to set the gradients to zeros\n",
    "        self.optimizer.zero_grad()   ### reset gradients\n",
    "        loss.backward()              ### calculate gradients\n",
    "        self.optimizer.step()        ### update network\n",
    "        if self.timer % 5 == 0:      ### timer for updating target network\n",
    "          self.timer = 0\n",
    "          self.update_target_network()\n",
    "\n",
    "    def update_target_network(self):\n",
    "        tau = 1e-3\n",
    "        # TODO: copy main network parameters to target network parameters\n",
    "        ### hard copy value net to target net\n",
    "        self.target_value_net.load_state_dict(self.value_net.state_dict())\n",
    "        pass\n",
    "\n",
    "    def update_experience(self, s, a, sp, r, done):\n",
    "        ### Method for adding transision into experience buffer\n",
    "        self.replay_buffer.store_trans(s, a, sp, r, done)\n",
    "\n",
    "    def save(self, fname):\n",
    "        # TODO: save checkpoint\n",
    "        torch.save(self.target_value_net,fname)\n",
    "        pass\n",
    "\n",
    "    def load(self, fname, device):\n",
    "        # TODO: load checkpoint\n",
    "        # روی لپتاپ من پایتورچ فقط با سی پی یو کار می کند\n",
    "        # برای همین با سی پی یو شبکه را لود می کنیم.\n",
    "        self.value_net = torch.load(fname, map_location=torch.device('cpu')).to(device)\n",
    "        pass"
   ]
  },
  {
   "cell_type": "code",
   "execution_count": 19,
   "metadata": {
    "colab": {
     "base_uri": "https://localhost:8080/"
    },
    "id": "llHsnj9oPaOd",
    "outputId": "693089f1-ae86-47cc-efb2-67d3255f955a"
   },
   "outputs": [
    {
     "name": "stdout",
     "output_type": "stream",
     "text": [
      "Episode 25\tAverage Reward: -136.36\tEpsilon: 0.47\n",
      "Episode 50\tAverage Reward: -50.29\tEpsilon: 0.22\n",
      "Episode 75\tAverage Reward: -39.65\tEpsilon: 0.10\n",
      "Episode 100\tAverage Reward: -20.12\tEpsilon: 0.05\n",
      "Episode 125\tAverage Reward: 93.64\tEpsilon: 0.02\n",
      "Episode 150\tAverage Reward: 213.05\tEpsilon: 0.01\n",
      "Episode 175\tAverage Reward: 220.02\tEpsilon: 0.01\n",
      "Episode 200\tAverage Reward: 218.11\tEpsilon: 0.01\n",
      "Episode 225\tAverage Reward: 254.91\tEpsilon: 0.01\n",
      "Episode 250\tAverage Reward: 249.97\tEpsilon: 0.01\n"
     ]
    }
   ],
   "source": [
    "# training phase\n",
    "\n",
    "# TODO: create agent\n",
    "batch_size = 64               # set batch size\n",
    "agent = DDQNAgent(state_size, action_size, batch_size)\n",
    "crs2 = np.zeros(n_episodes) # cummulative rewards\n",
    "crs_recent = deque(maxlen=25) # recent cummulative rewards\n",
    "state = 0\n",
    "# training loop\n",
    "for i_episode in range(1, n_episodes+1):\n",
    "    # TODO: initialize the environment and state\n",
    "    done = 0\n",
    "    state = env.reset()\n",
    "    cr = 0 # episode cummulative rewards\n",
    "    agent.timer = 1\n",
    "    while not done:\n",
    "        # TODO: select and perform an action\n",
    "        \n",
    "        action = agent.take_action(state, eps)           ### select the action, input current state and current epsilon value\n",
    "        next_state, reward, done, _ = env.step(action)   ### perform the action\n",
    "        # TODO: store transition in experience replay\n",
    "        agent.update_experience(state, action, next_state, reward, done)\n",
    "        # TODO: update agent\n",
    "        agent.update_params()\n",
    "        # TODO: update current state and episode cummulative rewards\n",
    "        state = next_state\n",
    "        cr += reward\n",
    "        # timer used to update target network every 5 actions:\n",
    "        agent.timer += 1\n",
    "    # TODO: decay epsilon\n",
    "    eps = max(eps_end, eps_decay_rate*eps)\n",
    "    # TODO: update current cummulative rewards and recent cummulative rewards\n",
    "    crs2[i_episode-1] = cr\n",
    "    crs_recent.append(cr)\n",
    "    # TODO: save agent every 50 episodes\n",
    "    if (i_episode % 50 == 0):\n",
    "        agent.save('ddqn_episode_'+str(i_episode)+'.pt')\n",
    "    # print logs\n",
    "    print('\\rEpisode {}\\tAverage Reward: {:.2f}\\tEpsilon: {:.2f}'.format(i_episode, np.mean(crs_recent), eps), end=\"\")\n",
    "    if i_episode % 25 == 0:\n",
    "        print('\\rEpisode {}\\tAverage Reward: {:.2f}\\tEpsilon: {:.2f}'.format(i_episode, np.mean(crs_recent), eps))"
   ]
  },
  {
   "cell_type": "code",
   "execution_count": 20,
   "metadata": {
    "colab": {
     "base_uri": "https://localhost:8080/",
     "height": 295
    },
    "id": "_D0fKI3j004k",
    "outputId": "ddc76794-47f6-4ddf-933d-ef84301f173e"
   },
   "outputs": [
    {
     "data": {
      "image/png": "[encoded data removed]",
      "text/plain": [
       "<Figure size 432x288 with 1 Axes>"
      ]
     },
     "metadata": {
      "needs_background": "light"
     },
     "output_type": "display_data"
    }
   ],
   "source": [
    "import matplotlib.pyplot as plt\n",
    "plt.plot(crs)\n",
    "plt.plot(crs2)\n",
    "plt.title('DQN & DDQN Reward per Episode')\n",
    "plt.legend(['DQN', 'DDQN'])\n",
    "plt.xlabel('episode #')\n",
    "plt.ylabel('Reward')\n",
    "plt.show()"
   ]
  },
  {
   "cell_type": "markdown",
   "metadata": {
    "id": "e9S4b0U61CRl"
   },
   "source": [
    "# Record Trained DDQN Network in 100, 250"
   ]
  },
  {
   "cell_type": "code",
   "execution_count": 6,
   "metadata": {},
   "outputs": [
    {
     "name": "stderr",
     "output_type": "stream",
     "text": [
      "F:\\Anaconda3\\envs\\nndl\\lib\\site-packages\\gym\\wrappers\\monitoring\\video_recorder.py:115: DeprecationWarning: \u001b[33mWARN: `env.metadata[\"video.frames_per_second\"] is marked as deprecated and will be replaced with `env.metadata[\"render_fps\"]` see https://github.com/openai/gym/pull/2654 for more details\u001b[0m\n",
      "  logger.deprecation(\n",
      "F:\\Anaconda3\\envs\\nndl\\lib\\site-packages\\gym\\wrappers\\monitoring\\video_recorder.py:421: DeprecationWarning: distutils Version classes are deprecated. Use packaging.version instead.\n",
      "  if distutils.version.LooseVersion(\n"
     ]
    }
   ],
   "source": [
    "from gym.wrappers.monitoring import video_recorder\n",
    "batch_size = 64              # set batch size\n",
    "agent = DDQNAgent(state_size, action_size, batch_size)\n",
    "for eps in [100, 250]:\n",
    "    filename = \"videos/ddqn_eps_{}.mp4\".format(eps)\n",
    "    open(filename, 'x').close()\n",
    "    vid = video_recorder.VideoRecorder(env, path=filename)\n",
    "    agent.load('ddqn_episode_'+str(eps)+'.pt', device)\n",
    "    state = env.reset()\n",
    "    done = False\n",
    "    while not done:\n",
    "        frame = env.render(mode='rgb_array')\n",
    "        vid.capture_frame()\n",
    "        action = agent.take_action(state)\n",
    "        state, reward, done, _ = env.step(action)\n",
    "    env.close()"
   ]
  },
  {
   "cell_type": "code",
   "execution_count": null,
   "metadata": {},
   "outputs": [],
   "source": []
  }
 ],
 "metadata": {
  "accelerator": "GPU",
  "colab": {
   "collapsed_sections": [],
   "name": "lunarlander_new.ipynb",
   "provenance": []
  },
  "kernelspec": {
   "display_name": "nndl",
   "language": "python",
   "name": "nndl"
  },
  "language_info": {
   "codemirror_mode": {
    "name": "ipython",
    "version": 3
   },
   "file_extension": ".py",
   "mimetype": "text/x-python",
   "name": "python",
   "nbconvert_exporter": "python",
   "pygments_lexer": "ipython3",
   "version": "3.9.12"
  }
 },
 "nbformat": 4,
 "nbformat_minor": 1
}
